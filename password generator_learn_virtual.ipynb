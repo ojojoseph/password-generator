{
 "cells": [
  {
   "cell_type": "code",
   "execution_count": 1,
   "metadata": {},
   "outputs": [
    {
     "name": "stdout",
     "output_type": "stream",
     "text": [
      "You are about to generate a password for your account\n",
      "Hello how strong will you like your password to be?\n",
      "Weak, medium or strong?: strong\n",
      "4\n",
      "4R\n",
      "4R3\n",
      "4R3o\n",
      "4R3o4\n",
      "4R3o4m\n",
      "4R3o4mf\n",
      "4R3o4mf3\n",
      "4R3o4mf3F\n",
      "4R3o4mf3Fo\n",
      "4R3o4mf3Fo8\n",
      "4R3o4mf3Fo84\n",
      "4R3o4mf3Fo84P\n",
      "This is your new password\n"
     ]
    }
   ],
   "source": [
    "\n",
    "\n",
    "import random\n",
    "\n",
    "print('You are about to generate a password for your account')\n",
    "\n",
    "char1 = 'ABDEFGHIJKLMNOPQRSTUVWXYZ'\n",
    "        \n",
    "char2 = char1.lower()\n",
    "\n",
    "symbols ='@#$%=&:?/|~23&90'\n",
    "         \n",
    "digits = '0123456789'\n",
    "\n",
    "char_list = (list(char1 + char2 + symbols + digits))\n",
    "\n",
    "p_w_strength = input('Hello how strong will you like your password to be?\\nWeak, medium or strong?: ')\n",
    "\n",
    "\n",
    "if p_w_strength == 'weak':\n",
    "    p_w_len = 6\n",
    "    \n",
    "    \n",
    "elif p_w_strength == 'medium':\n",
    "    p_w_len = 9\n",
    "    \n",
    "    \n",
    "elif p_w_strength == 'strong':\n",
    "    p_w_len = 13\n",
    "   \n",
    "\n",
    "else:\n",
    "    print('thank you')\n",
    "    \n",
    "password = []\n",
    "\n",
    "\n",
    "def pass_gen():\n",
    "    for i in range(0, p_w_len):\n",
    "        password.append(random.choice(char_list))\n",
    "        print(''.join(password))\n",
    "        \n",
    "                \n",
    "pass_gen()\n",
    "print('This is your new password')"
   ]
  },
  {
   "cell_type": "code",
   "execution_count": null,
   "metadata": {},
   "outputs": [],
   "source": []
  }
 ],
 "metadata": {
  "kernelspec": {
   "display_name": "Python 3",
   "language": "python",
   "name": "python3"
  },
  "language_info": {
   "codemirror_mode": {
    "name": "ipython",
    "version": 3
   },
   "file_extension": ".py",
   "mimetype": "text/x-python",
   "name": "python",
   "nbconvert_exporter": "python",
   "pygments_lexer": "ipython3",
   "version": "3.6.4"
  }
 },
 "nbformat": 4,
 "nbformat_minor": 2
}
